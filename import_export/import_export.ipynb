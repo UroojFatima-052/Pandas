{
 "cells": [
  {
   "cell_type": "markdown",
   "id": "2dd09516",
   "metadata": {},
   "source": [
    "# Importing/Loading & Exporting/Saving\n",
    "Pandas has I/O functions for almost every major file format."
   ]
  },
  {
   "cell_type": "code",
   "execution_count": 3,
   "id": "7977ad49",
   "metadata": {},
   "outputs": [],
   "source": [
    "import pandas as pd"
   ]
  },
  {
   "cell_type": "code",
   "execution_count": 4,
   "id": "8f4047aa",
   "metadata": {},
   "outputs": [
    {
     "data": {
      "text/html": [
       "<div>\n",
       "<style scoped>\n",
       "    .dataframe tbody tr th:only-of-type {\n",
       "        vertical-align: middle;\n",
       "    }\n",
       "\n",
       "    .dataframe tbody tr th {\n",
       "        vertical-align: top;\n",
       "    }\n",
       "\n",
       "    .dataframe thead th {\n",
       "        text-align: right;\n",
       "    }\n",
       "</style>\n",
       "<table border=\"1\" class=\"dataframe\">\n",
       "  <thead>\n",
       "    <tr style=\"text-align: right;\">\n",
       "      <th></th>\n",
       "      <th>Name</th>\n",
       "      <th>Age</th>\n",
       "      <th>Fav_food</th>\n",
       "    </tr>\n",
       "  </thead>\n",
       "  <tbody>\n",
       "    <tr>\n",
       "      <th>1</th>\n",
       "      <td>Bial</td>\n",
       "      <td>22</td>\n",
       "      <td>Everything</td>\n",
       "    </tr>\n",
       "    <tr>\n",
       "      <th>2</th>\n",
       "      <td>Ahmed</td>\n",
       "      <td>4</td>\n",
       "      <td>Nuggets</td>\n",
       "    </tr>\n",
       "    <tr>\n",
       "      <th>3</th>\n",
       "      <td>Owais</td>\n",
       "      <td>16</td>\n",
       "      <td>Shawarma</td>\n",
       "    </tr>\n",
       "    <tr>\n",
       "      <th>4</th>\n",
       "      <td>Salman</td>\n",
       "      <td>40</td>\n",
       "      <td>Nihari</td>\n",
       "    </tr>\n",
       "    <tr>\n",
       "      <th>5</th>\n",
       "      <td>Mukhtar</td>\n",
       "      <td>40</td>\n",
       "      <td>Nihari</td>\n",
       "    </tr>\n",
       "  </tbody>\n",
       "</table>\n",
       "</div>"
      ],
      "text/plain": [
       "      Name  Age    Fav_food\n",
       "1     Bial   22  Everything\n",
       "2    Ahmed    4     Nuggets\n",
       "3    Owais   16    Shawarma\n",
       "4   Salman   40      Nihari\n",
       "5  Mukhtar   40      Nihari"
      ]
     },
     "execution_count": 4,
     "metadata": {},
     "output_type": "execute_result"
    }
   ],
   "source": [
    "data = {\n",
    "    'Name' : ['Bial', 'Ahmed', 'Owais', 'Salman', 'Mukhtar'],\n",
    "    'Age' : [22, 4, 16, 40, 40],\n",
    "    'Fav_food' : ['Everything', 'Nuggets', 'Shawarma', 'Nihari', 'Nihari'],\n",
    "}\n",
    "df = pd.DataFrame(data, index=[1, 2, 3, 4, 5])\n",
    "df\n",
    "\n",
    "# df.to_csv('Example.csv')"
   ]
  },
  {
   "cell_type": "code",
   "execution_count": 17,
   "id": "5acfe97c",
   "metadata": {},
   "outputs": [],
   "source": [
    "# .csv\n",
    "#Export\n",
    "df.to_csv('CSV.csv', index=False)"
   ]
  },
  {
   "cell_type": "code",
   "execution_count": null,
   "id": "eca61c2a",
   "metadata": {},
   "outputs": [],
   "source": [
    "# .csv\n",
    "#Import\n",
    "df = pd.read_csv('CSV.csv', sep=',', index_col=0, header=0, usecols=['Name', 'Age'])\n",
    "df"
   ]
  },
  {
   "cell_type": "code",
   "execution_count": null,
   "id": "e834bcd4",
   "metadata": {},
   "outputs": [],
   "source": [
    "# .xls or xlsx\n",
    "# Export\n",
    "df.to_excel('Excel.xlsx', index=False, sheet_name='Sheet1')"
   ]
  },
  {
   "cell_type": "code",
   "execution_count": null,
   "id": "f865a4dc",
   "metadata": {},
   "outputs": [],
   "source": [
    "#Import\n",
    "df = pd.read_excel('Excel.xlsx', sheet_name='Sheet1', index_col=None) \n",
    "df"
   ]
  },
  {
   "cell_type": "code",
   "execution_count": null,
   "id": "042cd84d",
   "metadata": {},
   "outputs": [],
   "source": [
    "# html import\n",
    "\n",
    "import requests\n",
    "\n",
    "url = \"https://en.wikipedia.org/wiki/Population\"\n",
    "\n",
    "headers = {'User-Agent' : 'Mozilla/5.0'}\n",
    "response = requests.get(url, headers=headers)\n",
    "\n",
    "df = pd.read_html(response.text)\n",
    "\n",
    "len(df)\n",
    "df[0].head()\n",
    "\n"
   ]
  },
  {
   "cell_type": "code",
   "execution_count": null,
   "id": "693a5d70",
   "metadata": {},
   "outputs": [],
   "source": [
    "import sqlite3\n",
    "\n",
    "conn = sqlite3.connect('mydb.db')\n",
    "\n",
    "'''df = pd.DataFrame({\n",
    "    'Name' : ['Kainat', 'Hamza', 'Usman', 'Rimsha'],\n",
    "    'Age' : [20, 18, 30, 25],\n",
    "    'Gender' : ['F', 'M', 'M', 'F']\n",
    "}, index=[1, 2, 3, 4])'''\n",
    "\n",
    "df.to_sql('users', conn, if_exists='replace', index=False)\n"
   ]
  },
  {
   "cell_type": "code",
   "execution_count": null,
   "id": "5ec968fc",
   "metadata": {},
   "outputs": [],
   "source": [
    "pd.read_sql('SELECT*FROM users', conn)"
   ]
  },
  {
   "cell_type": "code",
   "execution_count": null,
   "id": "ecea1c7f",
   "metadata": {},
   "outputs": [],
   "source": []
  }
 ],
 "metadata": {
  "kernelspec": {
   "display_name": "Python 3",
   "language": "python",
   "name": "python3"
  },
  "language_info": {
   "codemirror_mode": {
    "name": "ipython",
    "version": 3
   },
   "file_extension": ".py",
   "mimetype": "text/x-python",
   "name": "python",
   "nbconvert_exporter": "python",
   "pygments_lexer": "ipython3",
   "version": "3.13.0"
  }
 },
 "nbformat": 4,
 "nbformat_minor": 5
}
