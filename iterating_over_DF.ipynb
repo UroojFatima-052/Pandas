{
 "cells": [
  {
   "cell_type": "markdown",
   "id": "a570ca4b",
   "metadata": {},
   "source": [
    "Pandas DataFrames are not meant to be iterated row by row like lists because it’s slow. But sometimes you need to."
   ]
  },
  {
   "cell_type": "code",
   "execution_count": null,
   "id": "3230ef8d",
   "metadata": {},
   "outputs": [],
   "source": [
    "import pandas as pd"
   ]
  },
  {
   "cell_type": "code",
   "execution_count": null,
   "id": "babbea0b",
   "metadata": {},
   "outputs": [],
   "source": [
    "df = pd.DataFrame({\n",
    "    'Name' : ['Alice', 'Bob', 'Mike', 'Smith'],\n",
    "    'Age' : [23, 40, 36, 19],\n",
    "    'Job' : ['Programmer', 'Doctor', 'Scientist', 'Painter']\n",
    "})\n",
    "\n",
    "df"
   ]
  },
  {
   "cell_type": "code",
   "execution_count": null,
   "id": "aaaf279a",
   "metadata": {},
   "outputs": [],
   "source": [
    "for i, row in df.iterrows():\n",
    "    print(row)\n",
    "    # OR\n",
    "    print(f'Index: {i}, Name: {row['Name']}, Age: {row['Age']}, Job: {row['Job']}')\n"
   ]
  },
  {
   "cell_type": "code",
   "execution_count": null,
   "id": "c5bb07fe",
   "metadata": {},
   "outputs": [],
   "source": [
    "for row in df.itertuples():\n",
    "    print(row.Name, row.Job)"
   ]
  },
  {
   "cell_type": "code",
   "execution_count": null,
   "id": "5df176bb",
   "metadata": {},
   "outputs": [],
   "source": [
    "for col in df:\n",
    "    print(col)"
   ]
  },
  {
   "cell_type": "code",
   "execution_count": null,
   "id": "6a997e58",
   "metadata": {},
   "outputs": [],
   "source": [
    "for i, col in df.items():\n",
    "    print(col)"
   ]
  }
 ],
 "metadata": {
  "kernelspec": {
   "display_name": "Python 3",
   "language": "python",
   "name": "python3"
  },
  "language_info": {
   "codemirror_mode": {
    "name": "ipython",
    "version": 3
   },
   "file_extension": ".py",
   "mimetype": "text/x-python",
   "name": "python",
   "nbconvert_exporter": "python",
   "pygments_lexer": "ipython3",
   "version": "3.13.0"
  }
 },
 "nbformat": 4,
 "nbformat_minor": 5
}
