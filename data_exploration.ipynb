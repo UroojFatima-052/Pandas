{
 "cells": [
  {
   "cell_type": "code",
   "execution_count": null,
   "id": "2c21182a",
   "metadata": {},
   "outputs": [],
   "source": [
    "import pandas as pd\n",
    "from sklearn.datasets import fetch_california_housing"
   ]
  },
  {
   "cell_type": "code",
   "execution_count": null,
   "id": "57c21882",
   "metadata": {},
   "outputs": [],
   "source": [
    "df = fetch_california_housing(as_frame=True).frame\n",
    "df"
   ]
  },
  {
   "cell_type": "code",
   "execution_count": null,
   "id": "f321715a",
   "metadata": {},
   "outputs": [],
   "source": [
    "df.head()\n",
    "df.head(10)\n",
    "df.tail()\n",
    "df.tail(20)"
   ]
  },
  {
   "cell_type": "code",
   "execution_count": null,
   "id": "df95e24c",
   "metadata": {},
   "outputs": [],
   "source": [
    "df.shape"
   ]
  },
  {
   "cell_type": "code",
   "execution_count": null,
   "id": "9a4f31a1",
   "metadata": {},
   "outputs": [],
   "source": [
    "df.sample()\n",
    "df.sample(12)"
   ]
  },
  {
   "cell_type": "code",
   "execution_count": null,
   "id": "0622ec4e",
   "metadata": {},
   "outputs": [],
   "source": [
    "df.info()"
   ]
  },
  {
   "cell_type": "code",
   "execution_count": null,
   "id": "e119a556",
   "metadata": {},
   "outputs": [],
   "source": [
    "df.columns\n",
    "list(df.columns)"
   ]
  },
  {
   "cell_type": "code",
   "execution_count": null,
   "id": "39b14aeb",
   "metadata": {},
   "outputs": [],
   "source": [
    "# pd.options.display.max_columns = 10  \n",
    "# df "
   ]
  },
  {
   "cell_type": "code",
   "execution_count": null,
   "id": "38c1f340",
   "metadata": {},
   "outputs": [],
   "source": [
    "df.index"
   ]
  },
  {
   "cell_type": "code",
   "execution_count": null,
   "id": "f5175dad",
   "metadata": {},
   "outputs": [],
   "source": [
    "df.dtypes"
   ]
  },
  {
   "cell_type": "code",
   "execution_count": null,
   "id": "9fde6d45",
   "metadata": {},
   "outputs": [],
   "source": [
    "df.describe()"
   ]
  },
  {
   "cell_type": "code",
   "execution_count": null,
   "id": "634fd52e",
   "metadata": {},
   "outputs": [],
   "source": [
    "df['Population'].sum()"
   ]
  },
  {
   "cell_type": "code",
   "execution_count": null,
   "id": "61e4543d",
   "metadata": {},
   "outputs": [],
   "source": [
    "df.nunique()"
   ]
  },
  {
   "cell_type": "code",
   "execution_count": null,
   "id": "9234fcc9",
   "metadata": {},
   "outputs": [],
   "source": [
    "df['AveRooms'].unique()"
   ]
  },
  {
   "cell_type": "code",
   "execution_count": null,
   "id": "8121d831",
   "metadata": {},
   "outputs": [],
   "source": [
    "df['AveOccup'].isnull().sum()"
   ]
  },
  {
   "cell_type": "code",
   "execution_count": null,
   "id": "9814cfeb",
   "metadata": {},
   "outputs": [],
   "source": [
    "df.isnull().sum()"
   ]
  },
  {
   "cell_type": "code",
   "execution_count": null,
   "id": "df7e9a37",
   "metadata": {},
   "outputs": [],
   "source": []
  }
 ],
 "metadata": {
  "kernelspec": {
   "display_name": "Python 3",
   "language": "python",
   "name": "python3"
  },
  "language_info": {
   "codemirror_mode": {
    "name": "ipython",
    "version": 3
   },
   "file_extension": ".py",
   "mimetype": "text/x-python",
   "name": "python",
   "nbconvert_exporter": "python",
   "pygments_lexer": "ipython3",
   "version": "3.13.0"
  }
 },
 "nbformat": 4,
 "nbformat_minor": 5
}
