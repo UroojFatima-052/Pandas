{
 "cells": [
  {
   "cell_type": "code",
   "execution_count": null,
   "id": "eedd6086",
   "metadata": {},
   "outputs": [],
   "source": [
    "import pandas as pd"
   ]
  },
  {
   "cell_type": "code",
   "execution_count": null,
   "id": "9902fe2f",
   "metadata": {},
   "outputs": [],
   "source": [
    "df = pd.read_csv(r'C:\\Users\\lenovo\\OneDrive\\Documents\\VS Code\\Pandas\\clean_jobs.csv')\n"
   ]
  },
  {
   "cell_type": "code",
   "execution_count": null,
   "id": "babd521c",
   "metadata": {},
   "outputs": [],
   "source": [
    "df.sample(5)\n"
   ]
  },
  {
   "cell_type": "code",
   "execution_count": null,
   "id": "94661f46",
   "metadata": {},
   "outputs": [],
   "source": [
    "df.info()"
   ]
  },
  {
   "cell_type": "code",
   "execution_count": null,
   "id": "30dae6cf",
   "metadata": {},
   "outputs": [],
   "source": [
    "df = df.drop(columns=['work_type', 'employment_type'])\n",
    "df.info()"
   ]
  },
  {
   "cell_type": "code",
   "execution_count": null,
   "id": "a617f1c8",
   "metadata": {},
   "outputs": [],
   "source": [
    "df['company'] = df['company'].fillna('Unknown')\n",
    "df['location'] = df['location'].fillna('Unknown')\n",
    "df['source'] = df['source'].fillna('Unknown')\n",
    "df['date_posted'] = df['date_posted'].fillna('Unknown')\n",
    "df['description'] = df['description'].fillna('Unknown')"
   ]
  },
  {
   "cell_type": "code",
   "execution_count": null,
   "id": "b489f90f",
   "metadata": {},
   "outputs": [],
   "source": [
    "df['title'] = df['title'].str.strip().str.title()\n",
    "df['company'] = df['company'].str.strip().str.title()\n",
    "df['location'] = df['location'].str.strip().str.title()\n",
    "df['source'] = df['source'].str.strip().str.title()"
   ]
  },
  {
   "cell_type": "code",
   "execution_count": null,
   "id": "abd9c4cf",
   "metadata": {},
   "outputs": [],
   "source": [
    "df = df.drop_duplicates(subset=['title', 'company', 'location'])"
   ]
  },
  {
   "cell_type": "code",
   "execution_count": null,
   "id": "865b19f6",
   "metadata": {},
   "outputs": [],
   "source": [
    "columns_to_check = ['company', 'location', 'title']\n",
    "empty_rows = df[columns_to_check].apply(lambda col : col.str.contains(r'\\*+', na=False)).any(axis=1)\n",
    "df[empty_rows]"
   ]
  },
  {
   "cell_type": "code",
   "execution_count": null,
   "id": "3f6e2c57",
   "metadata": {},
   "outputs": [],
   "source": [
    "df = df[~empty_rows]"
   ]
  },
  {
   "cell_type": "code",
   "execution_count": null,
   "id": "834c48df",
   "metadata": {},
   "outputs": [],
   "source": [
    "df.isnull().sum()\n"
   ]
  },
  {
   "cell_type": "code",
   "execution_count": null,
   "id": "c0913375",
   "metadata": {},
   "outputs": [],
   "source": [
    "df['location'].value_counts().head(10)"
   ]
  },
  {
   "cell_type": "code",
   "execution_count": null,
   "id": "cc3804fc",
   "metadata": {},
   "outputs": [],
   "source": [
    "df[['city', 'state']] = df['location'].str.split(',', n=1, expand=True)\n",
    "df"
   ]
  },
  {
   "cell_type": "code",
   "execution_count": null,
   "id": "ada0ddde",
   "metadata": {},
   "outputs": [],
   "source": [
    "df['city'] = df['city'].str.strip()\n",
    "df['state'] = df['state'].str.strip()\n",
    "\n",
    "set(df['title'])"
   ]
  }
 ],
 "metadata": {
  "kernelspec": {
   "display_name": "Python 3",
   "language": "python",
   "name": "python3"
  },
  "language_info": {
   "codemirror_mode": {
    "name": "ipython",
    "version": 3
   },
   "file_extension": ".py",
   "mimetype": "text/x-python",
   "name": "python",
   "nbconvert_exporter": "python",
   "pygments_lexer": "ipython3",
   "version": "3.13.0"
  }
 },
 "nbformat": 4,
 "nbformat_minor": 5
}
