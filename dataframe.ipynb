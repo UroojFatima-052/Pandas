{
 "cells": [
  {
   "cell_type": "markdown",
   "id": "58d56665",
   "metadata": {},
   "source": [
    "# Pandas Dataframes\n",
    "Think of a dataframe like a table. It is a 2d table with rows(index) and columns(labels). You can imagine it as an Excel sheet of SQL database table."
   ]
  },
  {
   "cell_type": "code",
   "execution_count": 2,
   "id": "6be3946f",
   "metadata": {},
   "outputs": [],
   "source": [
    "import pandas as pd"
   ]
  },
  {
   "cell_type": "code",
   "execution_count": null,
   "id": "962f29f9",
   "metadata": {},
   "outputs": [],
   "source": [
    "data = {\n",
    "    'Name' : ['Urooj', 'Kainat', 'Fatima', 'Muskan'],\n",
    "    'Age' : [20, 30, 24, 19], \n",
    "    'Salary' : [00, 20000, 30000, 10000],\n",
    "    'Hobbies' : ['None', 'Cycling', 'Reading', 'Cooking']\n",
    "}\n",
    "\n",
    "df = pd.DataFrame(data, index=[1, 2, 3, 4])\n",
    "print(df)\n",
    "print(df.dtypes)\n",
    "print(df.index)"
   ]
  },
  {
   "cell_type": "code",
   "execution_count": null,
   "id": "2566a511",
   "metadata": {},
   "outputs": [],
   "source": [
    "df = pd.DataFrame({\n",
    "    'Fruits' : ['Apple', 'Mango', 'Orange', 'Banana'],\n",
    "    'Vegetables' : ['Onion', 'Brinjal', 'Tomato', 'Potato'],\n",
    "    'Spices' : ['Red Chilli', 'Black Pepper', 'Green Chilli', 'White Pepper']\n",
    "}, index=[1, 2, 3, 4])\n",
    "\n",
    "print(df)\n",
    "\n",
    "print(df.shape)\n",
    "print(df.values)\n",
    "print(df.size)\n",
    "print(df.index)\n",
    "print(df.ndim)\n",
    "print(df.columns)\n",
    "print(df.dtypes)\n"
   ]
  },
  {
   "cell_type": "code",
   "execution_count": null,
   "id": "e28f3a5e",
   "metadata": {},
   "outputs": [],
   "source": [
    "data = {\n",
    "    'Name' : ['Urooj', 'Kainat', 'Fatima', 'Muskan'],\n",
    "    'Age' : [20, 30, 24, 19], \n",
    "    'Salary' : [00, 20000, 30000, 10000],\n",
    "    'Hobbies' : ['None', 'Cycling', 'Reading', 'Cooking']\n",
    "}\n",
    "\n",
    "df = pd.DataFrame(data, index=['a', 'b', 'c', 'd'])\n",
    "print(df)\n",
    "\n",
    "# accessing a column\n",
    "print(df.Hobbies)\n",
    "print(df['Name'])\n",
    "print(df[['Age', 'Salary']])\n",
    "\n",
    "# accessing a row\n",
    "print(df.iloc[0]) # position based access\n",
    "print(df.loc['d']) # index based access\n",
    "print(df.loc['d', 'Hobbies'])\n",
    "print(df.iloc[3, 0])\n"
   ]
  },
  {
   "cell_type": "code",
   "execution_count": null,
   "id": "4253249e",
   "metadata": {},
   "outputs": [],
   "source": [
    "data = {\n",
    "    'Name' : ['Bisma', 'Zoya', 'Kainat'],\n",
    "    'Age' : [23, 21, 20],\n",
    "    'Ninth Marks' : [450, 300, 421],\n",
    "    'Matric Marks' : [420, 460, 300]\n",
    "} \n",
    "\n",
    "df1 = pd.DataFrame(data, index=[1, 2, 3])\n",
    "print(df1)\n",
    "df1['Total Marks'] = df1['Ninth Marks'] + df1['Matric Marks']\n",
    "print(df1)\n",
    "df1['Percentage'] = (df1['Total Marks'] / 1000) * 100\n",
    "print(df1)\n",
    "\n",
    "\n"
   ]
  },
  {
   "cell_type": "code",
   "execution_count": null,
   "id": "c47487b5",
   "metadata": {},
   "outputs": [],
   "source": [
    "df1 = pd.DataFrame({\n",
    "    'Marks' : [300, 350, 200, 450]\n",
    "})\n",
    "\n",
    "df2 = pd.DataFrame({\n",
    "    'Marks' : [1000, 1240, 1350, 1005]\n",
    "})\n",
    "\n",
    "print(df1 + df2)\n",
    "print(df1 - df2)\n",
    "print(df1 / df2)"
   ]
  }
 ],
 "metadata": {
  "kernelspec": {
   "display_name": "Python 3",
   "language": "python",
   "name": "python3"
  },
  "language_info": {
   "codemirror_mode": {
    "name": "ipython",
    "version": 3
   },
   "file_extension": ".py",
   "mimetype": "text/x-python",
   "name": "python",
   "nbconvert_exporter": "python",
   "pygments_lexer": "ipython3",
   "version": "3.13.0"
  }
 },
 "nbformat": 4,
 "nbformat_minor": 5
}
