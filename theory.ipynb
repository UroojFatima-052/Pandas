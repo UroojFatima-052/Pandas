{
 "cells": [
  {
   "cell_type": "markdown",
   "id": "9a86eb8c",
   "metadata": {},
   "source": [
    "Pandas is a data analysis library built on top of numpy."
   ]
  },
  {
   "cell_type": "code",
   "execution_count": null,
   "id": "6b91fa2e",
   "metadata": {},
   "outputs": [],
   "source": [
    "# set(df.['column name']) --> this displays all the unique values in column "
   ]
  },
  {
   "cell_type": "code",
   "execution_count": null,
   "id": "4a592ab8",
   "metadata": {},
   "outputs": [],
   "source": [
    "# df.iloc[0]\n",
    "# df.iloc[1]\n",
    "\n",
    "# display the whole row on that index"
   ]
  },
  {
   "cell_type": "code",
   "execution_count": null,
   "id": "b35f7ffa",
   "metadata": {},
   "outputs": [],
   "source": [
    "# df.loc[df['customerName'] = 'Urooj', 'Age'] = 20\n",
    "\n",
    "# updates Urooj's age"
   ]
  },
  {
   "cell_type": "code",
   "execution_count": null,
   "id": "83a5c97c",
   "metadata": {},
   "outputs": [],
   "source": []
  }
 ],
 "metadata": {
  "language_info": {
   "name": "python"
  }
 },
 "nbformat": 4,
 "nbformat_minor": 5
}
