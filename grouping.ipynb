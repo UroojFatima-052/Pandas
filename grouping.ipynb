{
 "cells": [
  {
   "cell_type": "markdown",
   "id": "88f9cb49",
   "metadata": {},
   "source": [
    "## Grouping\n",
    "Grouping in Pandas is used to split data into groups based on some criteria, apply a function to each group, and then combine the results."
   ]
  },
  {
   "cell_type": "code",
   "execution_count": 1,
   "id": "c27b7efc",
   "metadata": {},
   "outputs": [],
   "source": [
    "import pandas as pd"
   ]
  },
  {
   "cell_type": "code",
   "execution_count": 2,
   "id": "cbe8e7d2",
   "metadata": {},
   "outputs": [
    {
     "data": {
      "text/html": [
       "<div>\n",
       "<style scoped>\n",
       "    .dataframe tbody tr th:only-of-type {\n",
       "        vertical-align: middle;\n",
       "    }\n",
       "\n",
       "    .dataframe tbody tr th {\n",
       "        vertical-align: top;\n",
       "    }\n",
       "\n",
       "    .dataframe thead th {\n",
       "        text-align: right;\n",
       "    }\n",
       "</style>\n",
       "<table border=\"1\" class=\"dataframe\">\n",
       "  <thead>\n",
       "    <tr style=\"text-align: right;\">\n",
       "      <th></th>\n",
       "      <th>Name</th>\n",
       "      <th>Department</th>\n",
       "      <th>Salary</th>\n",
       "      <th>Gender</th>\n",
       "    </tr>\n",
       "  </thead>\n",
       "  <tbody>\n",
       "    <tr>\n",
       "      <th>1</th>\n",
       "      <td>Alice</td>\n",
       "      <td>IT</td>\n",
       "      <td>20000</td>\n",
       "      <td>M</td>\n",
       "    </tr>\n",
       "    <tr>\n",
       "      <th>2</th>\n",
       "      <td>Bob</td>\n",
       "      <td>Finance</td>\n",
       "      <td>36000</td>\n",
       "      <td>M</td>\n",
       "    </tr>\n",
       "    <tr>\n",
       "      <th>3</th>\n",
       "      <td>Elizabeth</td>\n",
       "      <td>HR</td>\n",
       "      <td>100000</td>\n",
       "      <td>F</td>\n",
       "    </tr>\n",
       "    <tr>\n",
       "      <th>4</th>\n",
       "      <td>Smith</td>\n",
       "      <td>IT</td>\n",
       "      <td>40000</td>\n",
       "      <td>M</td>\n",
       "    </tr>\n",
       "    <tr>\n",
       "      <th>5</th>\n",
       "      <td>Rahila</td>\n",
       "      <td>IT</td>\n",
       "      <td>40000</td>\n",
       "      <td>F</td>\n",
       "    </tr>\n",
       "    <tr>\n",
       "      <th>6</th>\n",
       "      <td>John</td>\n",
       "      <td>Finance</td>\n",
       "      <td>25000</td>\n",
       "      <td>M</td>\n",
       "    </tr>\n",
       "    <tr>\n",
       "      <th>7</th>\n",
       "      <td>Mehak</td>\n",
       "      <td>HR</td>\n",
       "      <td>50000</td>\n",
       "      <td>F</td>\n",
       "    </tr>\n",
       "  </tbody>\n",
       "</table>\n",
       "</div>"
      ],
      "text/plain": [
       "        Name Department  Salary Gender\n",
       "1      Alice         IT   20000      M\n",
       "2        Bob    Finance   36000      M\n",
       "3  Elizabeth         HR  100000      F\n",
       "4      Smith         IT   40000      M\n",
       "5     Rahila         IT   40000      F\n",
       "6       John    Finance   25000      M\n",
       "7      Mehak         HR   50000      F"
      ]
     },
     "execution_count": 2,
     "metadata": {},
     "output_type": "execute_result"
    }
   ],
   "source": [
    "df = pd.DataFrame({\n",
    "    'Name' : ['Alice', 'Bob', 'Elizabeth', 'Smith', 'Rahila', 'John', 'Mehak'],\n",
    "    'Department' : ['IT', 'Finance', 'HR', 'IT', 'IT', 'Finance', 'HR'],\n",
    "    'Salary' : [20000, 36000, 100000, 40000, 40000, 25000, 50000],\n",
    "    'Gender' : ['M', 'M', 'F', 'M', 'F', 'M', 'F']\n",
    "}, index=[1, 2, 3, 4, 5, 6, 7])\n",
    "\n",
    "df"
   ]
  },
  {
   "cell_type": "code",
   "execution_count": null,
   "id": "56537f4f",
   "metadata": {},
   "outputs": [
    {
     "name": "stdout",
     "output_type": "stream",
     "text": [
      "Department\n",
      "Finance    30500.000000\n",
      "HR         75000.000000\n",
      "IT         33333.333333\n",
      "Name: Salary, dtype: float64\n"
     ]
    }
   ],
   "source": [
    "df.groupby('Department')['Salary'].mean()"
   ]
  },
  {
   "cell_type": "code",
   "execution_count": 8,
   "id": "836a32ad",
   "metadata": {},
   "outputs": [
    {
     "data": {
      "text/html": [
       "<div>\n",
       "<style scoped>\n",
       "    .dataframe tbody tr th:only-of-type {\n",
       "        vertical-align: middle;\n",
       "    }\n",
       "\n",
       "    .dataframe tbody tr th {\n",
       "        vertical-align: top;\n",
       "    }\n",
       "\n",
       "    .dataframe thead th {\n",
       "        text-align: right;\n",
       "    }\n",
       "</style>\n",
       "<table border=\"1\" class=\"dataframe\">\n",
       "  <thead>\n",
       "    <tr style=\"text-align: right;\">\n",
       "      <th></th>\n",
       "      <th></th>\n",
       "      <th>mean</th>\n",
       "      <th>max</th>\n",
       "      <th>min</th>\n",
       "      <th>sum</th>\n",
       "    </tr>\n",
       "    <tr>\n",
       "      <th>Department</th>\n",
       "      <th>Gender</th>\n",
       "      <th></th>\n",
       "      <th></th>\n",
       "      <th></th>\n",
       "      <th></th>\n",
       "    </tr>\n",
       "  </thead>\n",
       "  <tbody>\n",
       "    <tr>\n",
       "      <th>Finance</th>\n",
       "      <th>M</th>\n",
       "      <td>30500.0</td>\n",
       "      <td>36000</td>\n",
       "      <td>25000</td>\n",
       "      <td>61000</td>\n",
       "    </tr>\n",
       "    <tr>\n",
       "      <th>HR</th>\n",
       "      <th>F</th>\n",
       "      <td>75000.0</td>\n",
       "      <td>100000</td>\n",
       "      <td>50000</td>\n",
       "      <td>150000</td>\n",
       "    </tr>\n",
       "    <tr>\n",
       "      <th rowspan=\"2\" valign=\"top\">IT</th>\n",
       "      <th>F</th>\n",
       "      <td>40000.0</td>\n",
       "      <td>40000</td>\n",
       "      <td>40000</td>\n",
       "      <td>40000</td>\n",
       "    </tr>\n",
       "    <tr>\n",
       "      <th>M</th>\n",
       "      <td>30000.0</td>\n",
       "      <td>40000</td>\n",
       "      <td>20000</td>\n",
       "      <td>60000</td>\n",
       "    </tr>\n",
       "  </tbody>\n",
       "</table>\n",
       "</div>"
      ],
      "text/plain": [
       "                      mean     max    min     sum\n",
       "Department Gender                                \n",
       "Finance    M       30500.0   36000  25000   61000\n",
       "HR         F       75000.0  100000  50000  150000\n",
       "IT         F       40000.0   40000  40000   40000\n",
       "           M       30000.0   40000  20000   60000"
      ]
     },
     "execution_count": 8,
     "metadata": {},
     "output_type": "execute_result"
    }
   ],
   "source": [
    "df.groupby(['Department', 'Gender'])['Salary'].agg(['mean', 'max', 'min', 'sum'])"
   ]
  },
  {
   "cell_type": "code",
   "execution_count": 9,
   "id": "c717e03c",
   "metadata": {},
   "outputs": [
    {
     "data": {
      "text/plain": [
       "Department\n",
       "Finance    2\n",
       "HR         2\n",
       "IT         3\n",
       "dtype: int64"
      ]
     },
     "execution_count": 9,
     "metadata": {},
     "output_type": "execute_result"
    }
   ],
   "source": [
    "df.groupby('Department').size()"
   ]
  },
  {
   "cell_type": "code",
   "execution_count": 11,
   "id": "75bb99d2",
   "metadata": {},
   "outputs": [
    {
     "name": "stdout",
     "output_type": "stream",
     "text": [
      "Department: Finance\n",
      "   Name Department  Salary Gender\n",
      "2   Bob    Finance   36000      M\n",
      "6  John    Finance   25000      M\n",
      "\n",
      "Department: HR\n",
      "        Name Department  Salary Gender\n",
      "3  Elizabeth         HR  100000      F\n",
      "7      Mehak         HR   50000      F\n",
      "\n",
      "Department: IT\n",
      "     Name Department  Salary Gender\n",
      "1   Alice         IT   20000      M\n",
      "4   Smith         IT   40000      M\n",
      "5  Rahila         IT   40000      F\n",
      "\n"
     ]
    }
   ],
   "source": [
    "grouped = df.groupby('Department')\n",
    "\n",
    "for d_name, group in grouped:\n",
    "    print(f'Department: {d_name}')\n",
    "    print(group)\n",
    "    print()"
   ]
  }
 ],
 "metadata": {
  "kernelspec": {
   "display_name": "Python 3",
   "language": "python",
   "name": "python3"
  },
  "language_info": {
   "codemirror_mode": {
    "name": "ipython",
    "version": 3
   },
   "file_extension": ".py",
   "mimetype": "text/x-python",
   "name": "python",
   "nbconvert_exporter": "python",
   "pygments_lexer": "ipython3",
   "version": "3.13.0"
  }
 },
 "nbformat": 4,
 "nbformat_minor": 5
}
