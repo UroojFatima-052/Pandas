{
 "cells": [
  {
   "cell_type": "code",
   "execution_count": null,
   "id": "a007855b",
   "metadata": {},
   "outputs": [],
   "source": [
    "import pandas as pd"
   ]
  },
  {
   "cell_type": "code",
   "execution_count": null,
   "id": "968022c4",
   "metadata": {},
   "outputs": [],
   "source": [
    "Data = {\n",
    "    'Name' : ['John', 'Alice', 'Mike', 'Evan'],\n",
    "    'Age' : [23, 45, 12, 30],\n",
    "    'Job' : ['Doctor', 'Programmer', 'Scientist', 'Designer'],\n",
    "    'Hobby' : ['Painting', 'Racing', 'Cooking', 'Eating']\n",
    "}\n",
    "\n",
    "df = pd.DataFrame(Data)\n",
    "df"
   ]
  },
  {
   "cell_type": "code",
   "execution_count": null,
   "id": "8aa0fa16",
   "metadata": {},
   "outputs": [],
   "source": [
    "def square(x):\n",
    "    if x % 2:\n",
    "        return x ** 2\n",
    "    else:\n",
    "        return x \n",
    "    \n",
    "df['Age'].apply(square)"
   ]
  },
  {
   "cell_type": "code",
   "execution_count": null,
   "id": "f3060928",
   "metadata": {},
   "outputs": [],
   "source": [
    "def compliment(x):\n",
    "    if x.endswith('r'):\n",
    "        return 'Nice Job'\n",
    "    else:\n",
    "        return 'Not a good Job'\n",
    "    \n",
    "df['Job Status'] = df['Job'].apply(compliment)\n",
    "df"
   ]
  },
  {
   "cell_type": "code",
   "execution_count": null,
   "id": "6030aa9c",
   "metadata": {},
   "outputs": [],
   "source": [
    "# lambda argument : expression\n",
    "\n",
    "df['Label'] = df['Age'].apply(lambda x : 'Bachelor Age' if x <= 25 else 'Adult')\n",
    "df"
   ]
  },
  {
   "cell_type": "code",
   "execution_count": null,
   "id": "5b27671a",
   "metadata": {},
   "outputs": [],
   "source": [
    "# .map -> map works the same but only for Series\n",
    "\n",
    "series = pd.Series([11, 12, 13, 14, 15])\n",
    "series\n",
    "\n",
    "series = series.map(lambda x : x **2)\n"
   ]
  },
  {
   "cell_type": "code",
   "execution_count": null,
   "id": "b6605ec1",
   "metadata": {},
   "outputs": [],
   "source": [
    "# .applymap -> works when you have multiple numeric columns.\n",
    "\n",
    "df = pd.DataFrame({\n",
    "    'Even' : [2, 4, 6, 8, 10],\n",
    "    'Odd' : [1, 3, 5, 7, 9]\n",
    "}, index=['a', 'b', 'c', 'd', 'e'])\n",
    "\n",
    "df.applymap(lambda x : x * 2)"
   ]
  },
  {
   "cell_type": "code",
   "execution_count": null,
   "id": "6fcc74cf",
   "metadata": {},
   "outputs": [],
   "source": [
    "df = pd.DataFrame({\n",
    "    'Name' : ['Hamza', 'Laiba', 'Burhan', 'Asif', 'Faiza', 'Muskan'],\n",
    "    'Age' : [20, 19, 18, 21, 20, 19],\n",
    "    'Marks' : [96, 67, 82, 77, 65, 55]\n",
    "}, index=[1, 2, 3, 4, 5, 6])\n",
    "\n",
    "def grading(x):\n",
    "    if(x >= 90):\n",
    "        return \"Grade 'A'\"\n",
    "    elif(x >= 80 and x < 90):\n",
    "        return \"Grade 'B'\"\n",
    "    elif(x >=70 and x < 80):\n",
    "        return \"Grade 'C'\"\n",
    "    elif(x >=60 and x < 70):\n",
    "        return \"Grade 'D'\"\n",
    "    else: \n",
    "        return \"Grade 'E'\"\n",
    "\n",
    "df['Grade'] = df['Marks'].apply(grading)\n",
    "df"
   ]
  },
  {
   "cell_type": "code",
   "execution_count": null,
   "id": "56c3c7f6",
   "metadata": {},
   "outputs": [],
   "source": [
    "def status(x):\n",
    "    if x == \"Grade 'E'\":\n",
    "        return 'Fail!'\n",
    "    elif x == \"Grade 'D'\":\n",
    "        return 'Promoted!'\n",
    "    else:\n",
    "        return 'Pass!'\n",
    "\n",
    "df['Status'] = df['Grade'].apply(status)\n",
    "df"
   ]
  }
 ],
 "metadata": {
  "kernelspec": {
   "display_name": "Python 3",
   "language": "python",
   "name": "python3"
  },
  "language_info": {
   "codemirror_mode": {
    "name": "ipython",
    "version": 3
   },
   "file_extension": ".py",
   "mimetype": "text/x-python",
   "name": "python",
   "nbconvert_exporter": "python",
   "pygments_lexer": "ipython3",
   "version": "3.13.0"
  }
 },
 "nbformat": 4,
 "nbformat_minor": 5
}
