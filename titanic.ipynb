{
 "cells": [
  {
   "cell_type": "code",
   "execution_count": null,
   "id": "0acedf95",
   "metadata": {},
   "outputs": [],
   "source": [
    "import pandas as pd"
   ]
  },
  {
   "cell_type": "code",
   "execution_count": null,
   "id": "de52d25d",
   "metadata": {},
   "outputs": [],
   "source": [
    "df = pd.read_csv('titanic.csv')"
   ]
  },
  {
   "cell_type": "code",
   "execution_count": null,
   "id": "fb691a0e",
   "metadata": {},
   "outputs": [],
   "source": [
    "df.info()"
   ]
  },
  {
   "cell_type": "code",
   "execution_count": null,
   "id": "8acd5ac2",
   "metadata": {},
   "outputs": [],
   "source": [
    "df.head()"
   ]
  },
  {
   "cell_type": "code",
   "execution_count": null,
   "id": "eedd613f",
   "metadata": {},
   "outputs": [],
   "source": [
    "df.isnull().sum()"
   ]
  },
  {
   "cell_type": "code",
   "execution_count": null,
   "id": "b6ef8b78",
   "metadata": {},
   "outputs": [],
   "source": [
    "df = df.drop_duplicates()"
   ]
  },
  {
   "cell_type": "code",
   "execution_count": null,
   "id": "3984c988",
   "metadata": {},
   "outputs": [],
   "source": [
    "df = df.drop(columns=['Cabin'])"
   ]
  },
  {
   "cell_type": "code",
   "execution_count": null,
   "id": "bad9dbf8",
   "metadata": {},
   "outputs": [],
   "source": [
    "df['Age'] = df['Age'].fillna(df['Age'].median())"
   ]
  },
  {
   "cell_type": "code",
   "execution_count": null,
   "id": "6653edea",
   "metadata": {},
   "outputs": [],
   "source": [
    "df['Embarked'] = df['Embarked'].fillna(df['Embarked'].mode()[0])"
   ]
  },
  {
   "cell_type": "code",
   "execution_count": null,
   "id": "e9741b3c",
   "metadata": {},
   "outputs": [],
   "source": [
    "df.Fare.min()"
   ]
  },
  {
   "cell_type": "code",
   "execution_count": null,
   "id": "321d51f0",
   "metadata": {},
   "outputs": [],
   "source": [
    "# How many rows and columns?\n",
    "df.shape\n",
    "# How many unique values in Pclass, Sex, Embarked?\n",
    "df['Pclass'].nunique(), df['Sex'].nunique(), df['Embarked'].nunique()\n",
    "# What’s the average, min, and max of Age and Fare?\n",
    "df[['Age', 'Fare']].describe()\n"
   ]
  },
  {
   "cell_type": "code",
   "execution_count": null,
   "id": "557655c0",
   "metadata": {},
   "outputs": [],
   "source": [
    "# Count how many passengers were in each Pclass.\n",
    "df['Pclass'].value_counts().plot(kind='bar', figsize=(6,5), title='Passenger Class Count')\n"
   ]
  },
  {
   "cell_type": "code",
   "execution_count": null,
   "id": "7cff79d6",
   "metadata": {},
   "outputs": [],
   "source": [
    "# Count how many passengers survived vs not.\n",
    "df['Survived'].value_counts().plot(kind='bar', figsize=(6, 5), title='Survived vs. Not')"
   ]
  },
  {
   "cell_type": "code",
   "execution_count": null,
   "id": "d0802ce5",
   "metadata": {},
   "outputs": [],
   "source": [
    "# Compare survival by sex.\n",
    "df.groupby('Sex')['Survived'].mean()"
   ]
  },
  {
   "cell_type": "code",
   "execution_count": null,
   "id": "cba0b05b",
   "metadata": {},
   "outputs": [],
   "source": [
    "# Compare survival by pclass.\n",
    "df.groupby('Pclass')['Survived'].mean()"
   ]
  },
  {
   "cell_type": "code",
   "execution_count": null,
   "id": "38676341",
   "metadata": {},
   "outputs": [],
   "source": [
    "# Compare survival by Embarked.\n",
    "df.groupby('Embarked')['Survived'].sum()"
   ]
  },
  {
   "cell_type": "code",
   "execution_count": null,
   "id": "a3b99230",
   "metadata": {},
   "outputs": [],
   "source": [
    "# Compare survival by Age groups (e.g., 0–12 child, 13–18 teen, 19–40 adult, 41+ senior).\n",
    "df['AgeGroup'] = pd.cut(df['Age'], bins=[0, 12, 18, 40, 80], labels=['Child', 'Teen', 'Adult', 'Senior'])\n",
    "df.groupby('AgeGroup')['Survived'].mean()"
   ]
  },
  {
   "cell_type": "code",
   "execution_count": null,
   "id": "4fa25c0e",
   "metadata": {},
   "outputs": [],
   "source": [
    "# Compare survival across Sex and Pclass together.\n",
    "df.groupby(['Sex', 'Pclass'])['Survived'].mean()"
   ]
  },
  {
   "cell_type": "code",
   "execution_count": null,
   "id": "424e36ef",
   "metadata": {},
   "outputs": [],
   "source": [
    "# Compare survival rate of children vs adults within classes.\n",
    "df.groupby(['Pclass', 'AgeGroup'])['Survived'].sum()"
   ]
  },
  {
   "cell_type": "code",
   "execution_count": null,
   "id": "54b75bf9",
   "metadata": {},
   "outputs": [],
   "source": [
    "# Compare Fare distribution for survivors vs non-survivors.\n",
    "df.boxplot(column='Fare', by='Survived')\n"
   ]
  },
  {
   "cell_type": "code",
   "execution_count": null,
   "id": "11c045cf",
   "metadata": {},
   "outputs": [],
   "source": [
    "# Which title (Mr, Miss, Mrs, Master) had highest survival?\n",
    "df['Title'] = df['Name'].str.extract(' ([A-Za-z]+)\\.', expand=False)\n",
    "df.groupby('Title')['Survived'].mean()"
   ]
  },
  {
   "cell_type": "code",
   "execution_count": null,
   "id": "1a686ff3",
   "metadata": {},
   "outputs": [],
   "source": [
    "# Did larger families (FamilySize = SibSp + Parch + 1) survive more or less?\n",
    "df['FamilySize'] = df['SibSp'] + df['Parch'] + 1\n",
    "df.groupby('FamilySize')['Survived'].mean()"
   ]
  },
  {
   "cell_type": "code",
   "execution_count": null,
   "id": "db628789",
   "metadata": {},
   "outputs": [],
   "source": [
    "# Who paid the highest fare and did they survive?\n",
    "highest_fare = df.loc[df['Fare'].idxmax()]\n",
    "print(highest_fare)\n"
   ]
  }
 ],
 "metadata": {
  "kernelspec": {
   "display_name": "Python 3",
   "language": "python",
   "name": "python3"
  },
  "language_info": {
   "codemirror_mode": {
    "name": "ipython",
    "version": 3
   },
   "file_extension": ".py",
   "mimetype": "text/x-python",
   "name": "python",
   "nbconvert_exporter": "python",
   "pygments_lexer": "ipython3",
   "version": "3.13.0"
  }
 },
 "nbformat": 4,
 "nbformat_minor": 5
}
