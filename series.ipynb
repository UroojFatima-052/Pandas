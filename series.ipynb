{
 "cells": [
  {
   "cell_type": "markdown",
   "id": "84c5364b",
   "metadata": {},
   "source": [
    " # What is a Pandas Series ?\n",
    " Series in Pandas is a 1D labeled array.\n",
    " Basically it is a numpy 1d array + label or index.\n",
    " Series is one dimensional."
   ]
  },
  {
   "cell_type": "code",
   "execution_count": null,
   "id": "01252f83",
   "metadata": {},
   "outputs": [],
   "source": [
    "import pandas as pd"
   ]
  },
  {
   "cell_type": "code",
   "execution_count": null,
   "id": "5afc6737",
   "metadata": {},
   "outputs": [],
   "source": [
    "s = pd.Series([1, 2, 3, 4, 5], index=['s1', 's2', 's3', 's4', 's5'], dtype='float32')\n",
    "print(s)\n",
    "print(s.loc['s3']) # label based access\n",
    "print(s.iloc[2]) # position based access"
   ]
  },
  {
   "cell_type": "code",
   "execution_count": null,
   "id": "af16b5f0",
   "metadata": {},
   "outputs": [],
   "source": [
    "lst = ['urooj', 'lareb', 'aqsa']\n",
    "s = pd.Series(data=lst, index=[1, 2, 3])\n",
    "print(s)\n",
    "print(s.loc[2])\n",
    "print(s.iloc[2])"
   ]
  },
  {
   "cell_type": "code",
   "execution_count": null,
   "id": "bd6e1e56",
   "metadata": {},
   "outputs": [],
   "source": [
    "ser = pd.Series(['shampoo', 'soap', 'oil', 'rice'], index=['a', 2, 'b', 3])\n",
    "print(ser)\n",
    "print(ser.shape)\n",
    "print(ser.ndim)\n",
    "print(ser.values)\n",
    "print(ser.size)\n",
    "print(ser.index)\n",
    "print(ser.loc['b'])\n",
    "print(ser.iloc[0])\n"
   ]
  },
  {
   "cell_type": "code",
   "execution_count": null,
   "id": "05720321",
   "metadata": {},
   "outputs": [],
   "source": [
    "import numpy as np"
   ]
  },
  {
   "cell_type": "code",
   "execution_count": null,
   "id": "54b8afd4",
   "metadata": {},
   "outputs": [],
   "source": [
    "# copy = False -> (default) → Try to avoid copying, just reference the original data if possible.\n",
    "# EXAMPLE # 01\n",
    "arr = np.array([1, 2, 3, 4])\n",
    "s = pd.Series(arr, index=['a', 'b', 'c', 'd'], copy=False)\n",
    "print(s)\n",
    "print(arr)\n",
    "arr[1] = 200\n",
    "print(s)\n",
    "print(arr)\n",
    "\n",
    "# EXAMPLE # 02\n",
    "S = pd.Series([110, 120, 130, 140, 150], index=[1, 2, 3, 4, 5], copy=False)\n",
    "print(S)\n",
    "S[1] = 10\n",
    "print(S)\n"
   ]
  },
  {
   "cell_type": "code",
   "execution_count": null,
   "id": "87d916d1",
   "metadata": {},
   "outputs": [],
   "source": [
    "# copy = True -> Always make a new copy in memory, even if not strictly needed.\n",
    "# EXAMPLE # 01\n",
    "arr = np.array([1, 2, 3, 4])\n",
    "s = pd.Series(arr, index=['a', 'b', 'c', 'd'], copy=True)\n",
    "print(s)\n",
    "arr[1] = 200\n",
    "print(s)\n",
    "print(arr)\n",
    "\n",
    "# EXAMPLE # 02\n",
    "S = pd.Series([110, 120, 130, 140, 150], index=[1, 2, 3, 4, 5], copy=True) \n",
    "print(S)\n",
    "S[1] = 10 # this is going to work becasue copy parameter mainly makes a difference when you are working with NumPy arrays or existing Pandas objects.\n",
    "print(S)\n"
   ]
  },
  {
   "cell_type": "code",
   "execution_count": null,
   "id": "73492dd0",
   "metadata": {},
   "outputs": [],
   "source": []
  }
 ],
 "metadata": {
  "kernelspec": {
   "display_name": "Python 3",
   "language": "python",
   "name": "python3"
  },
  "language_info": {
   "codemirror_mode": {
    "name": "ipython",
    "version": 3
   },
   "file_extension": ".py",
   "mimetype": "text/x-python",
   "name": "python",
   "nbconvert_exporter": "python",
   "pygments_lexer": "ipython3",
   "version": "3.13.0"
  }
 },
 "nbformat": 4,
 "nbformat_minor": 5
}
