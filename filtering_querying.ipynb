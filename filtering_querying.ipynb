{
 "cells": [
  {
   "cell_type": "markdown",
   "id": "fe3fda7c",
   "metadata": {},
   "source": [
    "## Filtering"
   ]
  },
  {
   "cell_type": "code",
   "execution_count": null,
   "id": "5671e6ed",
   "metadata": {},
   "outputs": [],
   "source": [
    "import pandas as pd"
   ]
  },
  {
   "cell_type": "code",
   "execution_count": null,
   "id": "483c9955",
   "metadata": {},
   "outputs": [],
   "source": [
    "df = pd.DataFrame({\n",
    "    'Name' : ['Zohaib', 'Bisma', 'Qasim', 'Maaz', 'Hiba', 'Nasir'],\n",
    "    'Age' : [23, 45, 69, 50, 14, 36],\n",
    "    'City' : ['Karachi', 'Lahore', 'Peshawar', 'Multan', 'Lahore', 'Karachi'],\n",
    "    'Job' : ['Painter', 'Cheif', 'Programmer', 'Doctor', 'Plumber', 'Accountant']\n",
    "}, index=[1, 2, 3, 4, 5, 6])\n",
    "\n",
    "df"
   ]
  },
  {
   "cell_type": "code",
   "execution_count": null,
   "id": "12ec6455",
   "metadata": {},
   "outputs": [],
   "source": [
    "from datetime import date\n",
    "\n",
    "today = date.today()\n",
    "\n",
    "df['Birthdate'] = df['Age'].apply(lambda x: today.replace(year = today.year - x))\n",
    "df"
   ]
  },
  {
   "cell_type": "code",
   "execution_count": null,
   "id": "0ec8eefd",
   "metadata": {},
   "outputs": [],
   "source": [
    "filtered = df[df['Age'] >= 50]\n",
    "filtered"
   ]
  },
  {
   "cell_type": "code",
   "execution_count": null,
   "id": "67b1947a",
   "metadata": {},
   "outputs": [],
   "source": [
    "df[df['City'].isin(['Lahore', 'Karachi'])]"
   ]
  },
  {
   "cell_type": "code",
   "execution_count": null,
   "id": "eb52303e",
   "metadata": {},
   "outputs": [],
   "source": [
    "df[df['Name'].notna()]"
   ]
  },
  {
   "cell_type": "code",
   "execution_count": null,
   "id": "4d5dcd82",
   "metadata": {},
   "outputs": [],
   "source": [
    "df[df['Job'].str.endswith('r')]"
   ]
  },
  {
   "cell_type": "code",
   "execution_count": null,
   "id": "ee96da52",
   "metadata": {},
   "outputs": [],
   "source": [
    "df[(df['Age'] < 50) & (df['City'].isin(['Lahore', 'Peshawar']))]"
   ]
  },
  {
   "cell_type": "code",
   "execution_count": null,
   "id": "79b6fb6f",
   "metadata": {},
   "outputs": [],
   "source": [
    "df.loc[df['Age'] > 30, 'Name']"
   ]
  },
  {
   "cell_type": "code",
   "execution_count": null,
   "id": "5de10756",
   "metadata": {},
   "outputs": [],
   "source": [
    "import numpy as np\n",
    "\n",
    "df.loc[2, 'Job'] = np.nan"
   ]
  },
  {
   "cell_type": "markdown",
   "id": "c5de725b",
   "metadata": {},
   "source": [
    "## Querying"
   ]
  },
  {
   "cell_type": "code",
   "execution_count": null,
   "id": "27a24d9d",
   "metadata": {},
   "outputs": [],
   "source": [
    "df = pd.DataFrame({\n",
    "    'Name' : ['Alice', 'Bob', 'Mike', 'Smith'],\n",
    "    'Age' : [23, 40, 36, 19],\n",
    "    'Job' : ['Programmer', 'Doctor', 'Scientist', 'Painter']\n",
    "})\n",
    "\n",
    "df"
   ]
  },
  {
   "cell_type": "code",
   "execution_count": null,
   "id": "9db381d1",
   "metadata": {},
   "outputs": [],
   "source": [
    "df.query('Age > 20')"
   ]
  },
  {
   "cell_type": "code",
   "execution_count": null,
   "id": "fdf54c4c",
   "metadata": {},
   "outputs": [],
   "source": [
    "df.query('Age > 20 and Job == \"Programmer\"')"
   ]
  }
 ],
 "metadata": {
  "kernelspec": {
   "display_name": "Python 3",
   "language": "python",
   "name": "python3"
  },
  "language_info": {
   "codemirror_mode": {
    "name": "ipython",
    "version": 3
   },
   "file_extension": ".py",
   "mimetype": "text/x-python",
   "name": "python",
   "nbconvert_exporter": "python",
   "pygments_lexer": "ipython3",
   "version": "3.13.0"
  }
 },
 "nbformat": 4,
 "nbformat_minor": 5
}
